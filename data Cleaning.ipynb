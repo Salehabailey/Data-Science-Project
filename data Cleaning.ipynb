{
 "cells": [
  {
   "cell_type": "code",
   "execution_count": 1,
   "id": "61a15c49",
   "metadata": {},
   "outputs": [
    {
     "name": "stdout",
     "output_type": "stream",
     "text": [
      "Requirement already satisfied: emoji in c:\\users\\ppt59\\anaconda3\\lib\\site-packages (2.12.1)\n",
      "Requirement already satisfied: num2words in c:\\users\\ppt59\\anaconda3\\lib\\site-packages (0.5.13)\n",
      "Collecting typing-extensions>=4.7.0\n",
      "  Using cached typing_extensions-4.12.2-py3-none-any.whl (37 kB)\n",
      "Requirement already satisfied: docopt>=0.6.2 in c:\\users\\ppt59\\anaconda3\\lib\\site-packages (from num2words) (0.6.2)\n",
      "Installing collected packages: typing-extensions\n",
      "  Attempting uninstall: typing-extensions\n",
      "    Found existing installation: typing_extensions 4.5.0\n",
      "    Uninstalling typing_extensions-4.5.0:\n",
      "      Successfully uninstalled typing_extensions-4.5.0\n",
      "Successfully installed typing-extensions-4.12.2\n"
     ]
    },
    {
     "name": "stderr",
     "output_type": "stream",
     "text": [
      "WARNING: Ignoring invalid distribution -rotobuf (c:\\users\\ppt59\\anaconda3\\lib\\site-packages)\n",
      "WARNING: Ignoring invalid distribution -rotobuf (c:\\users\\ppt59\\anaconda3\\lib\\site-packages)\n",
      "WARNING: Ignoring invalid distribution -rotobuf (c:\\users\\ppt59\\anaconda3\\lib\\site-packages)\n",
      "    WARNING: Ignoring invalid distribution -rotobuf (c:\\users\\ppt59\\anaconda3\\lib\\site-packages)\n",
      "WARNING: Ignoring invalid distribution -rotobuf (c:\\users\\ppt59\\anaconda3\\lib\\site-packages)\n",
      "ERROR: pip's dependency resolver does not currently take into account all the packages that are installed. This behaviour is the source of the following dependency conflicts.\n",
      "torch 2.3.0 requires mkl<=2021.4.0,>=2021.1.1, which is not installed.\n",
      "tensorflow 2.10.1 requires protobuf<3.20,>=3.9.2, but you have protobuf 3.20.3 which is incompatible.\n",
      "spacy 3.3.3 requires typing-extensions<4.6.0,>=3.7.4.1, but you have typing-extensions 4.12.2 which is incompatible.\n",
      "cached-path 1.1.6 requires huggingface-hub<0.11.0,>=0.8.1, but you have huggingface-hub 0.24.5 which is incompatible.\n",
      "allennlp 2.10.1 requires torch<1.13.0,>=1.10.0, but you have torch 2.3.0 which is incompatible.\n",
      "allennlp 2.10.1 requires torchvision<0.14.0,>=0.8.1, but you have torchvision 0.18.0 which is incompatible.\n",
      "WARNING: Ignoring invalid distribution -rotobuf (c:\\users\\ppt59\\anaconda3\\lib\\site-packages)\n",
      "WARNING: Ignoring invalid distribution -rotobuf (c:\\users\\ppt59\\anaconda3\\lib\\site-packages)\n",
      "WARNING: There was an error checking the latest version of pip.\n"
     ]
    }
   ],
   "source": [
    "!pip install emoji num2words"
   ]
  },
  {
   "cell_type": "markdown",
   "id": "69c5aa05",
   "metadata": {},
   "source": [
    "### Check of Null values"
   ]
  },
  {
   "cell_type": "code",
   "execution_count": 2,
   "id": "aedad1bb",
   "metadata": {},
   "outputs": [
    {
     "name": "stderr",
     "output_type": "stream",
     "text": [
      "[nltk_data] Downloading package stopwords to\n",
      "[nltk_data]     C:\\Users\\ppt59\\AppData\\Roaming\\nltk_data...\n",
      "[nltk_data]   Package stopwords is already up-to-date!\n"
     ]
    },
    {
     "data": {
      "text/plain": [
       "Content    8\n",
       "Label      0\n",
       "dtype: int64"
      ]
     },
     "execution_count": 2,
     "metadata": {},
     "output_type": "execute_result"
    }
   ],
   "source": [
    "import pandas as pd\n",
    "import re\n",
    "import emoji\n",
    "from num2words import num2words\n",
    "import nltk\n",
    "from nltk.corpus import stopwords\n",
    "nltk.download('stopwords')\n",
    "\n",
    "# Load your dataset\n",
    "raw_dataset = pd.read_csv('data_huang_devansh.csv')\n",
    "pd.isnull(raw_dataset).sum()"
   ]
  },
  {
   "cell_type": "code",
   "execution_count": 3,
   "id": "0c493dae",
   "metadata": {},
   "outputs": [
    {
     "data": {
      "text/plain": [
       "Content    0\n",
       "Label      0\n",
       "dtype: int64"
      ]
     },
     "execution_count": 3,
     "metadata": {},
     "output_type": "execute_result"
    }
   ],
   "source": [
    "raw_dataset.dropna(inplace=True)\n",
    "pd.isnull(raw_dataset).sum()"
   ]
  },
  {
   "cell_type": "code",
   "execution_count": 4,
   "id": "f31552c2",
   "metadata": {},
   "outputs": [
    {
     "data": {
      "text/plain": [
       "0    708633\n",
       "1    133694\n",
       "Name: Label, dtype: int64"
      ]
     },
     "execution_count": 4,
     "metadata": {},
     "output_type": "execute_result"
    }
   ],
   "source": [
    "raw_dataset['Label'].value_counts()"
   ]
  },
  {
   "cell_type": "markdown",
   "id": "68b466ab",
   "metadata": {},
   "source": [
    "### Preprocessing the data"
   ]
  },
  {
   "cell_type": "code",
   "execution_count": 5,
   "id": "a39e3b1f",
   "metadata": {},
   "outputs": [],
   "source": [
    "profanities_df = pd.read_csv('profanity_en.csv')\n",
    "\n",
    "profanities_dict = dict(zip(profanities_df['text'], profanities_df['canonical_form_1']))\n",
    "\n",
    "def replace_misspelled_profanities(text):\n",
    "    # Replace misspelled profanities with correct ones\n",
    "    words = text.split()\n",
    "    for i in range(len(words)):\n",
    "        word = words[i]\n",
    "        if word in profanities_dict:\n",
    "            words[i] = profanities_dict[word]\n",
    "    return ' '.join(words)\n",
    "\n",
    "raw_dataset['Content'] = raw_dataset['Content'].apply(replace_misspelled_profanities)"
   ]
  },
  {
   "cell_type": "code",
   "execution_count": 6,
   "id": "332bcee6",
   "metadata": {},
   "outputs": [
    {
     "name": "stdout",
     "output_type": "stream",
     "text": [
      "Before preprocessing\n",
      "                                                  Content  Label\n",
      "0       `- This is not ``creative``. Those are the dic...      0\n",
      "1       ` :: the term ``standard model`` is itself les...      0\n",
      "2       True or false, the situation as of March 2002 ...      0\n",
      "3       Next, maybe you could work on being less conde...      0\n",
      "4                     This page will need disambiguation.      0\n",
      "...                                                   ...    ...\n",
      "842330  \"Never really gave it much thought. I just fig...      0\n",
      "842331                 \"Nadie se salva de la regla 34 xd\"      0\n",
      "842332               \"Question: Are you a boy or a girl?\"      0\n",
      "842333  \"Leave your email or phone number and maybe yo...      1\n",
      "842334  \"From the scenarios you present, I see you bel...      0\n",
      "\n",
      "[842327 rows x 2 columns]\n",
      "After preprocessing\n",
      "                                                  Content  Label\n",
      "0       creative dictionary definitions terms insuranc...      0\n",
      "1       term standard model less npov think we'd prefe...      0\n",
      "2       true false situation march two thousand two sa...      0\n",
      "3       next maybe could work less condescending sugge...      0\n",
      "4                                page need disambiguation      0\n",
      "...                                                   ...    ...\n",
      "842330   never really gave much thought figured back door      0\n",
      "842331           nadie se salva de la regla thirtyfour xd      0\n",
      "842332                                  question boy girl      0\n",
      "842333  leave email phone number maybe two twits meet ...      1\n",
      "842334  scenarios present see believe people robots ab...      0\n",
      "\n",
      "[842327 rows x 2 columns]\n"
     ]
    }
   ],
   "source": [
    "print('Before preprocessing')\n",
    "print(raw_dataset)\n",
    "emoticons = {\n",
    "    \":)\": \"smile\",\n",
    "    \":-)\": \"smile\",\n",
    "    \":(\": \"sad\",\n",
    "    \":-(\": \"sad\",\n",
    "    \";)\": \"wink\",\n",
    "    \";-)\": \"wink\",\n",
    "    \":D\": \"laugh\",\n",
    "    \":-D\": \"laugh\",\n",
    "    \":P\": \"playful\",\n",
    "    \":-P\": \"playful\",\n",
    "    \":-O\": \"surprised\",\n",
    "    \":O\": \"surprised\",\n",
    "    \":-*\": \"kiss\",\n",
    "    \":*\": \"kiss\",\n",
    "    \":'(\": \"crying\",\n",
    "    \":-/\": \"skeptical\",\n",
    "    \":/\": \"skeptical\",\n",
    "    \":-|\": \"neutral\",\n",
    "    \":|\": \"neutral\"\n",
    "}\n",
    "stop_words = set(stopwords.words('english'))\n",
    "def preprocess_text(text):\n",
    "    # Convert all text to lowercase\n",
    "    text = str(text)\n",
    "    text = text.lower()\n",
    "    \n",
    "    # Remove non-ASCII characters\n",
    "    text = re.sub(r'[^\\x00-\\x7F]+', '', text)\n",
    "    \n",
    "    # Remove hyperlinks\n",
    "    text = re.sub(r'http\\S+|www\\S+|https\\S+', '', text, flags=re.MULTILINE)\n",
    "    \n",
    "    # Remove user mentions\n",
    "    text = re.sub(r'@\\w+', '', text)\n",
    "    \n",
    "    # Convert emojis to text\n",
    "    text = emoji.demojize(text, delimiters=(\"\", \" \"))\n",
    "    \n",
    "    # Convert emoticons to text\n",
    "    for emoticon, description in emoticons.items():\n",
    "        text = text.replace(emoticon, description)\n",
    "    \n",
    "    # Remove date and time values\n",
    "    text = re.sub(r'\\b\\d{1,2}[:/.-]\\d{1,2}[:/.-]\\d{2,4}\\b', '', text)  # Dates like 12/12/2022\n",
    "    text = re.sub(r'\\b\\d{1,2}:\\d{2}(?:[:]\\d{2})?(?:\\s?[APMapm]{2})?\\b', '', text)  # Times like 12:00, 12:00 PM\n",
    "    \n",
    "    # Remove accented numbers and characters\n",
    "    text = re.sub(r'\\^(\\w+|\\d+)', '', text)\n",
    "    \n",
    "    # Convert remaining numbers to words\n",
    "    def convert_number(match):\n",
    "        number = int(match.group())\n",
    "        try:\n",
    "            # Only convert numbers smaller than a certain threshold\n",
    "            if abs(number) < 1e18:\n",
    "                return num2words(number)\n",
    "            else:\n",
    "                return str(number)  # Leave large numbers as they are\n",
    "        except OverflowError:\n",
    "            return str(number)  # Fallback for any unexpected OverflowError\n",
    "    \n",
    "    text = re.sub(r'\\b\\d+\\b', convert_number, text)\n",
    "    \n",
    "    # Remove ampersands from the beginning of words\n",
    "    text = re.sub(r'\\b&(\\w+)', r'\\1', text)\n",
    "    \n",
    "    # Remove specific characters\n",
    "    text = re.sub(r'[_\"<>`\\-;%()|+&=*%.,!?:#$@[\\]/]', '', text)\n",
    "    \n",
    "    # Remove multiple spaces\n",
    "    text = re.sub(r'\\s+', ' ', text).strip()\n",
    "    \n",
    "    # Remove newline characters\n",
    "    text = text.replace('\\n', ' ')\n",
    "    text = ' '.join([word for word in text.split() if word not in stop_words])\n",
    "    \n",
    "    return text\n",
    "\n",
    "# Apply preprocessing to the content column\n",
    "raw_dataset['Content'] = raw_dataset['Content'].apply(preprocess_text)\n",
    "print('After preprocessing')\n",
    "print(raw_dataset)"
   ]
  },
  {
   "cell_type": "code",
   "execution_count": 7,
   "id": "036b2d8a",
   "metadata": {},
   "outputs": [
    {
     "data": {
      "text/html": [
       "<div>\n",
       "<style scoped>\n",
       "    .dataframe tbody tr th:only-of-type {\n",
       "        vertical-align: middle;\n",
       "    }\n",
       "\n",
       "    .dataframe tbody tr th {\n",
       "        vertical-align: top;\n",
       "    }\n",
       "\n",
       "    .dataframe thead th {\n",
       "        text-align: right;\n",
       "    }\n",
       "</style>\n",
       "<table border=\"1\" class=\"dataframe\">\n",
       "  <thead>\n",
       "    <tr style=\"text-align: right;\">\n",
       "      <th></th>\n",
       "      <th>Content</th>\n",
       "      <th>Label</th>\n",
       "    </tr>\n",
       "  </thead>\n",
       "  <tbody>\n",
       "    <tr>\n",
       "      <th>0</th>\n",
       "      <td>creative dictionary definitions terms insuranc...</td>\n",
       "      <td>0</td>\n",
       "    </tr>\n",
       "    <tr>\n",
       "      <th>1</th>\n",
       "      <td>term standard model less npov think we'd prefe...</td>\n",
       "      <td>0</td>\n",
       "    </tr>\n",
       "    <tr>\n",
       "      <th>2</th>\n",
       "      <td>true false situation march two thousand two sa...</td>\n",
       "      <td>0</td>\n",
       "    </tr>\n",
       "    <tr>\n",
       "      <th>3</th>\n",
       "      <td>next maybe could work less condescending sugge...</td>\n",
       "      <td>0</td>\n",
       "    </tr>\n",
       "    <tr>\n",
       "      <th>4</th>\n",
       "      <td>page need disambiguation</td>\n",
       "      <td>0</td>\n",
       "    </tr>\n",
       "    <tr>\n",
       "      <th>...</th>\n",
       "      <td>...</td>\n",
       "      <td>...</td>\n",
       "    </tr>\n",
       "    <tr>\n",
       "      <th>842330</th>\n",
       "      <td>never really gave much thought figured back door</td>\n",
       "      <td>0</td>\n",
       "    </tr>\n",
       "    <tr>\n",
       "      <th>842331</th>\n",
       "      <td>nadie se salva de la regla thirtyfour xd</td>\n",
       "      <td>0</td>\n",
       "    </tr>\n",
       "    <tr>\n",
       "      <th>842332</th>\n",
       "      <td>question boy girl</td>\n",
       "      <td>0</td>\n",
       "    </tr>\n",
       "    <tr>\n",
       "      <th>842333</th>\n",
       "      <td>leave email phone number maybe two twits meet ...</td>\n",
       "      <td>1</td>\n",
       "    </tr>\n",
       "    <tr>\n",
       "      <th>842334</th>\n",
       "      <td>scenarios present see believe people robots ab...</td>\n",
       "      <td>0</td>\n",
       "    </tr>\n",
       "  </tbody>\n",
       "</table>\n",
       "<p>842327 rows × 2 columns</p>\n",
       "</div>"
      ],
      "text/plain": [
       "                                                  Content  Label\n",
       "0       creative dictionary definitions terms insuranc...      0\n",
       "1       term standard model less npov think we'd prefe...      0\n",
       "2       true false situation march two thousand two sa...      0\n",
       "3       next maybe could work less condescending sugge...      0\n",
       "4                                page need disambiguation      0\n",
       "...                                                   ...    ...\n",
       "842330   never really gave much thought figured back door      0\n",
       "842331           nadie se salva de la regla thirtyfour xd      0\n",
       "842332                                  question boy girl      0\n",
       "842333  leave email phone number maybe two twits meet ...      1\n",
       "842334  scenarios present see believe people robots ab...      0\n",
       "\n",
       "[842327 rows x 2 columns]"
      ]
     },
     "execution_count": 7,
     "metadata": {},
     "output_type": "execute_result"
    }
   ],
   "source": [
    "raw_dataset"
   ]
  },
  {
   "cell_type": "markdown",
   "id": "084143d2",
   "metadata": {},
   "source": [
    "### Check for Duplicates"
   ]
  },
  {
   "cell_type": "code",
   "execution_count": 8,
   "id": "8174908a",
   "metadata": {},
   "outputs": [
    {
     "data": {
      "text/html": [
       "<div>\n",
       "<style scoped>\n",
       "    .dataframe tbody tr th:only-of-type {\n",
       "        vertical-align: middle;\n",
       "    }\n",
       "\n",
       "    .dataframe tbody tr th {\n",
       "        vertical-align: top;\n",
       "    }\n",
       "\n",
       "    .dataframe thead th {\n",
       "        text-align: right;\n",
       "    }\n",
       "</style>\n",
       "<table border=\"1\" class=\"dataframe\">\n",
       "  <thead>\n",
       "    <tr style=\"text-align: right;\">\n",
       "      <th></th>\n",
       "      <th>Content</th>\n",
       "      <th>Label</th>\n",
       "    </tr>\n",
       "  </thead>\n",
       "  <tbody>\n",
       "    <tr>\n",
       "      <th>632</th>\n",
       "      <td>keep</td>\n",
       "      <td>0</td>\n",
       "    </tr>\n",
       "    <tr>\n",
       "      <th>647</th>\n",
       "      <td>keep</td>\n",
       "      <td>0</td>\n",
       "    </tr>\n",
       "    <tr>\n",
       "      <th>648</th>\n",
       "      <td>keep</td>\n",
       "      <td>0</td>\n",
       "    </tr>\n",
       "    <tr>\n",
       "      <th>649</th>\n",
       "      <td>keep</td>\n",
       "      <td>0</td>\n",
       "    </tr>\n",
       "    <tr>\n",
       "      <th>727</th>\n",
       "      <td>article licensing hi i've get users multilicen...</td>\n",
       "      <td>0</td>\n",
       "    </tr>\n",
       "    <tr>\n",
       "      <th>...</th>\n",
       "      <td>...</td>\n",
       "      <td>...</td>\n",
       "    </tr>\n",
       "    <tr>\n",
       "      <th>842330</th>\n",
       "      <td>never really gave much thought figured back door</td>\n",
       "      <td>0</td>\n",
       "    </tr>\n",
       "    <tr>\n",
       "      <th>842331</th>\n",
       "      <td>nadie se salva de la regla thirtyfour xd</td>\n",
       "      <td>0</td>\n",
       "    </tr>\n",
       "    <tr>\n",
       "      <th>842332</th>\n",
       "      <td>question boy girl</td>\n",
       "      <td>0</td>\n",
       "    </tr>\n",
       "    <tr>\n",
       "      <th>842333</th>\n",
       "      <td>leave email phone number maybe two twits meet ...</td>\n",
       "      <td>1</td>\n",
       "    </tr>\n",
       "    <tr>\n",
       "      <th>842334</th>\n",
       "      <td>scenarios present see believe people robots ab...</td>\n",
       "      <td>0</td>\n",
       "    </tr>\n",
       "  </tbody>\n",
       "</table>\n",
       "<p>404851 rows × 2 columns</p>\n",
       "</div>"
      ],
      "text/plain": [
       "                                                  Content  Label\n",
       "632                                                  keep      0\n",
       "647                                                  keep      0\n",
       "648                                                  keep      0\n",
       "649                                                  keep      0\n",
       "727     article licensing hi i've get users multilicen...      0\n",
       "...                                                   ...    ...\n",
       "842330   never really gave much thought figured back door      0\n",
       "842331           nadie se salva de la regla thirtyfour xd      0\n",
       "842332                                  question boy girl      0\n",
       "842333  leave email phone number maybe two twits meet ...      1\n",
       "842334  scenarios present see believe people robots ab...      0\n",
       "\n",
       "[404851 rows x 2 columns]"
      ]
     },
     "execution_count": 8,
     "metadata": {},
     "output_type": "execute_result"
    }
   ],
   "source": [
    "raw_dataset[raw_dataset.duplicated()]"
   ]
  },
  {
   "cell_type": "code",
   "execution_count": 9,
   "id": "c0e3b03b",
   "metadata": {},
   "outputs": [],
   "source": [
    "raw_dataset.drop_duplicates(inplace=True)"
   ]
  },
  {
   "cell_type": "code",
   "execution_count": 10,
   "id": "48d90dfb",
   "metadata": {},
   "outputs": [],
   "source": [
    "raw_dataset.to_csv('final_cleaned_dataset.csv', index=False)"
   ]
  },
  {
   "cell_type": "code",
   "execution_count": 11,
   "id": "c3a9e41d",
   "metadata": {},
   "outputs": [
    {
     "data": {
      "text/plain": [
       "Content    0\n",
       "Label      0\n",
       "dtype: int64"
      ]
     },
     "execution_count": 11,
     "metadata": {},
     "output_type": "execute_result"
    }
   ],
   "source": [
    "raw_dataset.dropna(inplace=True)\n",
    "pd.isnull(raw_dataset).sum()"
   ]
  },
  {
   "cell_type": "code",
   "execution_count": null,
   "id": "577c295f",
   "metadata": {},
   "outputs": [],
   "source": []
  }
 ],
 "metadata": {
  "kernelspec": {
   "display_name": "Python 3 (ipykernel)",
   "language": "python",
   "name": "python3"
  },
  "language_info": {
   "codemirror_mode": {
    "name": "ipython",
    "version": 3
   },
   "file_extension": ".py",
   "mimetype": "text/x-python",
   "name": "python",
   "nbconvert_exporter": "python",
   "pygments_lexer": "ipython3",
   "version": "3.10.9"
  }
 },
 "nbformat": 4,
 "nbformat_minor": 5
}
